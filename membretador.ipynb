{
 "cells": [
  {
   "cell_type": "code",
   "execution_count": 1,
   "metadata": {},
   "outputs": [
    {
     "name": "stderr",
     "output_type": "stream",
     "text": [
      "mupdf: cannot recognize xref format\n",
      "mupdf: cannot recognize xref format\n",
      "mupdf: cannot recognize xref format\n",
      "mupdf: cannot recognize xref format\n",
      "mupdf: cannot recognize xref format\n",
      "mupdf: cannot recognize xref format\n",
      "mupdf: cannot recognize xref format\n",
      "mupdf: cannot recognize xref format\n",
      "mupdf: cannot recognize xref format\n",
      "mupdf: cannot recognize xref format\n"
     ]
    }
   ],
   "source": [
    "#!/usr/bin/env python3\n",
    "# -*- coding: utf-8 -*-\n",
    "\"\"\"\n",
    "Created on Tue Jan 19 08:55:39 2021\n",
    "\n",
    "@author: alan\n",
    "\"\"\"\n",
    "#pip install PyPDF2\n",
    "\n",
    "import PyPDF2\n",
    "import glob\n",
    "import cv2\n",
    "import fitz\n",
    "import re\n",
    "\n",
    "\n",
    "w = 350\n",
    "h = 90  \n",
    "words = [\"Paciente\"]\n",
    "img = open('Encabezado.jpg', \"rb\").read()\n",
    "rect = fitz.Rect(0, 0, w, h)\n",
    "docs = glob.glob('*.PDF')\n",
    "for fname in docs:\n",
    "        file_handle = fitz.open(fname)\n",
    "        for pag in file_handle:\n",
    "            pag.insertImage(rect, stream = img)\n",
    "            text = pag.getText(\"text\")\n",
    "            words = text.lower().split()\n",
    "            name = ' '.join([str(elem) for elem in words[words.index('paciente')+2:words.index('resultado')]])\n",
    "            file_handle.save(name +'.pdf'.format(fname))  \n",
    "        file_handle.close() \n",
    "        \n",
    "        \n"
   ]
  },
  {
   "cell_type": "code",
   "execution_count": null,
   "metadata": {},
   "outputs": [],
   "source": []
  },
  {
   "cell_type": "code",
   "execution_count": null,
   "metadata": {},
   "outputs": [],
   "source": []
  },
  {
   "cell_type": "code",
   "execution_count": null,
   "metadata": {},
   "outputs": [],
   "source": []
  }
 ],
 "metadata": {
  "kernelspec": {
   "display_name": "Python 3",
   "language": "python",
   "name": "python3"
  },
  "language_info": {
   "codemirror_mode": {
    "name": "ipython",
    "version": 3
   },
   "file_extension": ".py",
   "mimetype": "text/x-python",
   "name": "python",
   "nbconvert_exporter": "python",
   "pygments_lexer": "ipython3",
   "version": "3.8.3"
  }
 },
 "nbformat": 4,
 "nbformat_minor": 4
}
